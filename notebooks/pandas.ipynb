{
 "cells": [
  {
   "cell_type": "code",
   "execution_count": 1,
   "id": "386a90b2-e624-425b-abb1-952466d5a07e",
   "metadata": {},
   "outputs": [],
   "source": [
    "import pandas as pd"
   ]
  },
  {
   "cell_type": "code",
   "execution_count": 2,
   "id": "f1c97e6f-6360-4ab7-b421-f69965068a75",
   "metadata": {},
   "outputs": [],
   "source": [
    "df=pd.read_csv(\"../data/pokemon_data.csv\")"
   ]
  },
  {
   "cell_type": "code",
   "execution_count": 6,
   "id": "266ef678-b13e-4223-9cf8-4efb50308f4e",
   "metadata": {},
   "outputs": [
    {
     "name": "stdout",
     "output_type": "stream",
     "text": [
      "        Name  Pokedex Number  Type1   Type2 Classification  Height (m)  \\\n",
      "0  Bulbasaur               1  Grass  Poison   Seed Pokémon         0.7   \n",
      "1    Ivysaur               2  Grass  Poison   Seed Pokémon         1.0   \n",
      "2   Venusaur               3  Grass  Poison   Seed Pokémon         2.0   \n",
      "\n",
      "   Weight (kg)              Abilities  Generation Legendary Status  \n",
      "0          6.9  Overgrow, Chlorophyll           1               No  \n",
      "1         13.0  Overgrow, Chlorophyll           1               No  \n",
      "2        100.0  Overgrow, Chlorophyll           1               No  \n"
     ]
    }
   ],
   "source": [
    "#df=pd.read_csv(\"../data/pokemon_data.csv\")   for csv file\n",
    "#print(df.head(3))\n",
    "\n",
    "#df_xlsx=pd.read_excel(\"pokemon_data.xlsx\")    for excel file\n",
    "#print(df_xlsx.head(3))\n",
    "\n",
    "#df=pd.read_csv(\"pokemon_data.txt\", delimiter ='\\t' (columns will be separated))    for text file\n",
    "#print(df.head(3))"
   ]
  },
  {
   "cell_type": "code",
   "execution_count": 10,
   "id": "4a0c430d-2d12-480c-b6f7-e98598b31f7a",
   "metadata": {},
   "outputs": [
    {
     "name": "stdout",
     "output_type": "stream",
     "text": [
      "Index(['Name', 'Pokedex Number', 'Type1', 'Type2', 'Classification',\n",
      "       'Height (m)', 'Weight (kg)', 'Abilities', 'Generation',\n",
      "       'Legendary Status'],\n",
      "      dtype='object')\n",
      "0               Bulbasaur\n",
      "1                 Ivysaur\n",
      "2                Venusaur\n",
      "3              Charmander\n",
      "4              Charmeleon\n",
      "              ...        \n",
      "900              Ursaluna\n",
      "901      Basculegion-male\n",
      "902              Sneasler\n",
      "903              Overqwil\n",
      "904    Enamorus-incarnate\n",
      "Name: Name, Length: 905, dtype: object\n"
     ]
    }
   ],
   "source": [
    "## Read Headers\n",
    "print(df.columns)\n",
    "## Read each column\n",
    "print(df['Name'])\n"
   ]
  },
  {
   "cell_type": "code",
   "execution_count": null,
   "id": "258b18ee-8850-4e59-aaa9-49aa8beaf332",
   "metadata": {},
   "outputs": [],
   "source": []
  }
 ],
 "metadata": {
  "kernelspec": {
   "display_name": "Python 3 (ipykernel)",
   "language": "python",
   "name": "python3"
  },
  "language_info": {
   "codemirror_mode": {
    "name": "ipython",
    "version": 3
   },
   "file_extension": ".py",
   "mimetype": "text/x-python",
   "name": "python",
   "nbconvert_exporter": "python",
   "pygments_lexer": "ipython3",
   "version": "3.13.0"
  }
 },
 "nbformat": 4,
 "nbformat_minor": 5
}
